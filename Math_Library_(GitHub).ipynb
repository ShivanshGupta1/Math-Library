{
  "nbformat": 4,
  "nbformat_minor": 0,
  "metadata": {
    "colab": {
      "name": "Math Library (GitHub).ipynb",
      "provenance": [],
      "authorship_tag": "ABX9TyMvHHV7JCnQNRkmSW7Biwxu",
      "include_colab_link": true
    },
    "kernelspec": {
      "name": "python3",
      "display_name": "Python 3"
    }
  },
  "cells": [
    {
      "cell_type": "markdown",
      "metadata": {
        "id": "view-in-github",
        "colab_type": "text"
      },
      "source": [
        "<a href=\"https://colab.research.google.com/github/ShivanshGupta1/Math-Library/blob/main/Math_Library_(GitHub).ipynb\" target=\"_parent\"><img src=\"https://colab.research.google.com/assets/colab-badge.svg\" alt=\"Open In Colab\"/></a>"
      ]
    },
    {
      "cell_type": "code",
      "metadata": {
        "id": "FKibAk-jvw9D"
      },
      "source": [
        "from random import\n",
        "a = randint(1,20)\n",
        "print(a)"
      ],
      "execution_count": null,
      "outputs": []
    },
    {
      "cell_type": "code",
      "metadata": {
        "id": "5Rd9Ohs1vyDJ"
      },
      "source": [
        "from random import randint\n",
        "a = randint(1,5)\n",
        "print(a)"
      ],
      "execution_count": null,
      "outputs": []
    },
    {
      "cell_type": "code",
      "metadata": {
        "id": "tlIeXDBOvyHg"
      },
      "source": [
        "from math import *\n",
        "print(gcd(10,100))"
      ],
      "execution_count": null,
      "outputs": []
    },
    {
      "cell_type": "code",
      "metadata": {
        "id": "HqdvT4n5vyLQ"
      },
      "source": [
        "from math import *\n",
        "print(pow(2,4))"
      ],
      "execution_count": null,
      "outputs": []
    },
    {
      "cell_type": "code",
      "metadata": {
        "id": "JHaIIOp3vyNt"
      },
      "source": [
        "from math import *\n",
        "print(factorial(4))"
      ],
      "execution_count": null,
      "outputs": []
    },
    {
      "cell_type": "code",
      "metadata": {
        "id": "Dhs3hHRzvySF"
      },
      "source": [
        "from math import *\n",
        "print(ceil(24.6))\n",
        "print(floor(24.7))"
      ],
      "execution_count": null,
      "outputs": []
    },
    {
      "cell_type": "code",
      "metadata": {
        "id": "YmDGz6sgvyU8"
      },
      "source": [
        "from math import *\n",
        "print(abs(-9.766))"
      ],
      "execution_count": null,
      "outputs": []
    },
    {
      "cell_type": "code",
      "metadata": {
        "id": "uCwqD9K9vyQp"
      },
      "source": [
        "from math import *\n",
        "a = 45\n",
        "print(sin(a))\n",
        "print(cos(a))\n",
        "print(tan(a))"
      ],
      "execution_count": null,
      "outputs": []
    },
    {
      "cell_type": "code",
      "metadata": {
        "id": "PtTMmCIcv6gK"
      },
      "source": [
        "from math import *\n",
        "x = randint(1,50)\n",
        "y = randint(2,5)\n",
        "print(pow(x,y))"
      ],
      "execution_count": null,
      "outputs": []
    },
    {
      "cell_type": "code",
      "metadata": {
        "id": "7CnMsMWpv8QL"
      },
      "source": [
        "from math import *\n",
        "x = randint(1,10)\n",
        "print(x)"
      ],
      "execution_count": null,
      "outputs": []
    }
  ]
}